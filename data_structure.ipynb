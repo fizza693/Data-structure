{
  "nbformat": 4,
  "nbformat_minor": 0,
  "metadata": {
    "colab": {
      "provenance": []
    },
    "kernelspec": {
      "name": "python3",
      "display_name": "Python 3"
    },
    "language_info": {
      "name": "python"
    }
  },
  "cells": [
    {
      "cell_type": "code",
      "execution_count": null,
      "metadata": {
        "id": "1aZ0eFiOkyXJ"
      },
      "outputs": [],
      "source": []
    },
    {
      "cell_type": "markdown",
      "source": [
        "## THEORY SESSION"
      ],
      "metadata": {
        "id": "SuC_-z-0Ol0b"
      }
    },
    {
      "cell_type": "markdown",
      "source": [
        "DATA STRUCTURE :"
      ],
      "metadata": {
        "id": "TS4cnD-uk9Qk"
      }
    },
    {
      "cell_type": "markdown",
      "source": [
        "\n",
        "\n",
        "1.What is data structure s, and why are they important ?\n",
        "\n",
        "--> Data structures are specialized formats for organizing, storing, and accessing collections of data. They provide efficient ways to manage information based on its characteristics and intended use.\n",
        "\n",
        "Why are they important?\n",
        "\n",
        "*   Choosing the right data structure significantly impacts the efficiency and performance of your program.\n",
        "*  Well-chosen data structures can:\n",
        "\n",
        "*  Simplify data manipulation (adding, removing, modifying elements)\n",
        "\n",
        "*   Conserve memory usage\n",
        "\n",
        "*  Optimize searching and sorting operations\n",
        "\n"
      ],
      "metadata": {
        "id": "xgXhlcOhlDJI"
      }
    },
    {
      "cell_type": "markdown",
      "source": [
        "2.  Explain the difference between mutable and immutable data types with examples\n",
        "\n",
        "\n",
        "        ◼   Mutable datatype : Mutable datatype can be change after they are created.\n",
        "\n",
        "              Example :\n",
        "\n",
        "              *   list\n",
        "              *   tuple\n",
        "              *   set\n",
        "\n",
        "              Example :\n",
        "                              my_list = [1, 2, 3]\n",
        "                              my_list.append(4)  # Now it's [1, 2, 3, 4]\n",
        "\n",
        "\n"
      ],
      "metadata": {
        "id": "C9gHl8rQlkEb"
      }
    },
    {
      "cell_type": "code",
      "source": [
        " ◼ Immutable datatype : Immutable datatype cannot be change after they are created.\n",
        "\n",
        "       Example :\n",
        "\n",
        "        *   string\n",
        "        *   tuple\n",
        "        *   integer\n",
        "        *   float\n",
        "        *   boolean\n",
        "\n",
        "        Example :\n",
        "                    my_string = \"Hello\"\n",
        "                    my_string[0] = \"H\"  # This will raise an error (TypeError)\n",
        "\n"
      ],
      "metadata": {
        "id": "2y5c3UxhnY_n"
      },
      "execution_count": null,
      "outputs": []
    },
    {
      "cell_type": "markdown",
      "source": [
        "3. What are the main differences between lists and tuples in Python?\n",
        "\n",
        "    --> In Python, lists and tuples are both used to store a collection of items. However, they differ in terms of mutability, syntax, and use cases. The table below highlights the key differences:\n",
        "\n",
        "\n",
        "    1. Mutability\n",
        "\n",
        "       List: Mutable – elements can be added, removed, or changed.\n",
        "       Tuple: Immutable – once created, elements cannot be changed.\n",
        "\n",
        "    2. Syntax\n",
        "\n",
        "       List: Created using square brackets.\n",
        "       Example: my_list = [1, 2, 3]\n",
        "\n",
        "       Tuple: Created using parentheses.\n",
        "       Example: my_tuple = (1, 2, 3)\n",
        "       \n",
        "    3. Methods Available\n",
        "\n",
        "      List: Has many built-in methods like append(), remove(), pop(), etc.\n",
        "\n",
        "      Tuple: Has only two methods: count() and index().\n",
        "\n",
        "    4. Performance\n",
        "\n",
        "      List: Slightly slower due to flexibility and mutability.\n",
        "\n",
        "      Tuple: Faster because it is immutable and requires less overhead.\n",
        "\n",
        "    5. Memory Usage\n",
        "      List: Uses more memory.\n",
        "\n",
        "      Tuple: More memory-efficient.\n",
        "\n",
        "    6. Use Cases\n",
        "\n",
        "      List: Ideal when you need to modify the data frequently.\n",
        "\n",
        "      Tuple: Best for fixed data that should not change during program execution.\n",
        "\n",
        "\n",
        "#list Example\n",
        "    my_list = [10, 20, 30]\n",
        "    my_list.append(40)\n",
        "    print(my_list)  # Output: [10, 20, 30, 40]\n",
        "#Tuple Example:\n",
        "    my_tuple = (10, 20, 30)\n",
        "    # my_tuple.append(40)  # This will raise an error because tuples are immutable\n",
        "\n",
        "\n",
        "✅ Conclusion\n",
        "Use lists when you need to change or update your data.\n",
        "\n",
        "Use tuples when your data must remain constant and secure.\n",
        "\n"
      ],
      "metadata": {
        "id": "T8uE0pz-jncb"
      }
    },
    {
      "cell_type": "markdown",
      "source": [
        "4 . Describe how dictionaries store data ?\n",
        "\n",
        "   --> A dictionary in Python is a built-in data type used to store data in key-value pairs. It is unordered  and mutable, meaning you can change, add, or remove elements.\n",
        "\n",
        "   *A dictionary stores data in this format:\n",
        "\n",
        "        dictionary = {\n",
        "                  \"key1\": \"value1\",\n",
        "                  \"key2\": \"value2\",\n",
        "                  \"key3\": \"value3\"\n",
        "                  }\n",
        "\n",
        "\n"
      ],
      "metadata": {
        "id": "hU1IS_2ZpCuL"
      }
    },
    {
      "cell_type": "markdown",
      "source": [
        "5. Why might you use a set instead of a list in Python ?\n",
        "\n",
        "    --> In Python, both sets and lists are used to store collections of items. However, there are specific situations where a set is more suitable than a list.\n",
        "\n",
        "    --> You might use a set instead of a list when:\n",
        "\n",
        "        1.You need unique values – Sets automatically remove duplicates.\n",
        "\n",
        "        2.You want faster searches – Checking if an item exists in a set is faster than in a list.\n",
        "\n",
        "        3.You need to perform set operations – Sets support union, intersection, difference, etc.\n",
        "\n",
        "        4.Order doesn’t matter – Sets are unordered, unlike lists which maintain order.\n",
        "\n",
        "        5.In short, sets are ideal when you want unique, unordered data and fast lookups."
      ],
      "metadata": {
        "id": "0szq-qJLpywx"
      }
    },
    {
      "cell_type": "markdown",
      "source": [
        "  "
      ],
      "metadata": {
        "id": "YCp2dhtpnjSi"
      }
    },
    {
      "cell_type": "markdown",
      "source": [
        "6.  What is a string in Python, and how is it different from a list?\n",
        "\n",
        "      -->  A string in Python is a sequence of characters, enclosed in quotes (' ', \" \", or ''' '''). It is immutable, meaning once created, it cannot be changed.\n",
        "\n",
        "      example:\n",
        "       \n",
        "       text =\"hello\"\n",
        "\n",
        "      -->  key diffrence between string and linst in python :\n",
        "\n",
        "\n",
        "\n",
        "\n",
        "\n",
        "    *   A string stores characters; a list can store any data types (numbers, strings, etc.).\n",
        "\n",
        "    *  Strings are immutable, while lists are mutable (can be changed).\n",
        "\n",
        "    *  Strings use only characters; lists can contain mixed data types.List item\n",
        "\n",
        "example:\n",
        "     \n",
        "     string = \"hello\"\n",
        "     list_data = [\"h\", \"e\", \"l\", \"l\", \"o\"]\n"
      ],
      "metadata": {
        "id": "-9khy5sqq65R"
      }
    },
    {
      "cell_type": "markdown",
      "source": [
        "7. How do tuples ensure data integrity in Python ?\n",
        "\n",
        "    --> Tuples ensure data integrity because they are immutable — once a tuple is created, its elements cannot be changed, added, or removed.\n",
        "\n",
        "    Example :\n",
        "\n",
        "        config = (\"localhost\", 8080)\n",
        "        # config[0] = \"127.0.0.1\"  ❌ This will raise an error\n",
        "\n",
        "    --> In short Tuples help protect your data from being changed by mistake, which makes them useful for maintaining data integrity in Python programs.     \n"
      ],
      "metadata": {
        "id": "NV1bgOvbssZ9"
      }
    },
    {
      "cell_type": "markdown",
      "source": [
        "8.  What is a hash table, and how does it relate to dictionaries in Python?\n",
        "\n",
        "      --> A hash table is a data structure that stores data in key-value pairs, using a hash function to compute an index (or hash) for each key. This allows fast access to values based on their keys.\n",
        "\n",
        "     --> In Python, the dictionary (dict) is implemented using a hash table.\n",
        "\n",
        "        How It Works:\n",
        "\n",
        "  * When you store a key in a dictionary, Python uses a hash function to convert\n",
        "\n",
        "  * the key into a number.\n",
        "\n",
        "  * This number decides where the value is stored in memory.\n",
        "\n",
        "  * When you look up a key, Python uses the hash to find the value quickly.\n",
        "\n",
        "  Example:\n",
        "\n",
        "          my_dict = {\"name\": \"Alice\", \"age\": 25}\n",
        "          print(my_dict[\"name\"])  # Output: Alice\n",
        "\n",
        "  -->  In short A dictionary in Python is a built-in version of a hash table,\n",
        "      allowing fast access, insertion, and deletion of key-value pairs.        \n"
      ],
      "metadata": {
        "id": "gMjpVSlntw5X"
      }
    },
    {
      "cell_type": "markdown",
      "source": [
        "9. Can lists contain different data types in Python?\n",
        "\n",
        "    -->  Yes, lists in Python can contain different data types. A single list can hold integers, strings, floats, booleans, even other lists or objects."
      ],
      "metadata": {
        "id": "_C1AFQY6x2WZ"
      }
    },
    {
      "cell_type": "markdown",
      "source": [
        "10. Explain why strings are immutable in Python?\n",
        "\n",
        "    -->  Strings are immutable in Python, meaning you cannot change a string after it is created. Any operation that modifies a string actually creates a new string.\n",
        "\n",
        "    --> Strings are immutable to improve performance, safety, and to allow their use as dictionary keys and hashable objects."
      ],
      "metadata": {
        "id": "ValJr7AOyG9U"
      }
    },
    {
      "cell_type": "markdown",
      "source": [
        "11. What advantages do dictionaries offer over lists for certain tasks ?\n",
        "\n",
        "    -->  Dictionaries offer several advantages over lists when dealing with key-value data or when fast lookups are needed.\n",
        "    \n",
        "\n",
        "✅ 1. Faster Data Access\n",
        "\n",
        "Dictionaries use keys to access values, which is much faster than searching through a list.\n",
        "\n",
        "Lookup time is O(1) on average, while lists take O(n).\n",
        "\n",
        "✅ 2. Key-Value Pair Storage\n",
        "\n",
        "Dictionaries are ideal when you need to associate data (like names and phone numbers).\n",
        "\n",
        "Lists just store values without any label or key.\n",
        "\n",
        "✅ 3. Improved Readability\n",
        "\n",
        "Using meaningful keys (like \"name\", \"age\") makes code easier to read and understand.\n",
        "\n",
        "    --> in short Use a dictionary when you need labeled data, fast lookups, and better code readability.\n"
      ],
      "metadata": {
        "id": "XjKEcNXjyoAw"
      }
    },
    {
      "cell_type": "markdown",
      "source": [
        "12.  Describe a scenario where using a tuple would be preferable over a list ?\n",
        "\n",
        "    -->  You should use a tuple instead of a list when you want to store data that should not change during the program.\n",
        "\n",
        "    -->  Use a tuple when your data is constant, like dates, coordinates, or settings, and you want to protect it from changes."
      ],
      "metadata": {
        "id": "tooHnJqJzour"
      }
    },
    {
      "cell_type": "markdown",
      "source": [
        "13.  How do sets handle duplicate values in Python ?\n",
        "\n",
        "    --> In Python, sets automatically remove duplicate values. When you add items to a set, only unique elements are stored — any duplicates are ignored.\n",
        "\n",
        "    Example:\n",
        "\n",
        "            my_set = {1, 2, 2, 3, 3, 3}\n",
        "            print(my_set)  # Output: {1, 2, 3}\n",
        "\n",
        "     --> In short Sets in Python do not allow duplicates — they store only unique items.       \n"
      ],
      "metadata": {
        "id": "iuAese-U0SmG"
      }
    },
    {
      "cell_type": "markdown",
      "source": [
        "14. How does the “in” keyword work differently for lists and dictionaries ?\n",
        "\n",
        "    -->  The in keyword is used to check if a value exists — but it behaves differently for lists and dictionaries.\n",
        "\n",
        "     In a list:\n",
        "\n",
        "          my_list = [1, 2, 3]\n",
        "          print(2 in my_list)  # Output: True\n",
        "\n",
        "     In a Dictionary:\n",
        "\n",
        "          my_dict = {\"name\": \"Alice\", \"age\": 25}\n",
        "          print(\"name\" in my_dict)   # Output: True\n",
        "          print(\"Alice\" in my_dict)  # Output: False (value, not key)\n",
        "\n",
        "  In Short:\n",
        "    \n",
        "    \n",
        "*   For lists, in checks for values.\n",
        "\n",
        "*   For dictionaries, in checks for keys.       \n",
        "     \n"
      ],
      "metadata": {
        "id": "SOVUUBEP05xc"
      }
    },
    {
      "cell_type": "markdown",
      "source": [
        "15.  Can you modify the elements of a tuple? Explain why or why not?\n",
        "\n",
        "    -->  You cannot modify the elements of a tuple in Python. This is because tuples are immutable, meaning that once a tuple is created, its contents (i.e., the elements it holds) cannot be changed, added to, or removed.\n",
        "\n",
        "    --> Here's why:\n",
        "        A tuple in Python is like a locked container. It can store multiple items (just like a list), but once it’s sealed, you can’t go in and change what’s inside.\n",
        "\n",
        "        Example:\n",
        "\n",
        "              my_tuple = (1, 2, 3)\n",
        "              my_tuple[0] = 100  # ❌ This will raise a TypeError\n"
      ],
      "metadata": {
        "id": "f0JzNXqh2KZJ"
      }
    },
    {
      "cell_type": "markdown",
      "source": [
        "16. What is a nested dictionary, and give an example of its use case ?\n",
        "\n",
        "    --> A nested dictionary in Python is a dictionary where one or more values are themselves dictionaries. It's like a dictionary within a dictionary, and it's super useful for representing structured or hierarchical data.\n",
        "\n",
        "    Example of a nested dictionary:\n",
        "\n",
        "          students = {\n",
        "        \"101\": {\n",
        "            \"name\": \"Alice\",\n",
        "            \"age\": 20,\n",
        "            \"grades\": {\"math\": 85, \"science\": 92}\n",
        "        },\n",
        "        \"102\": {\n",
        "            \"name\": \"Bob\",\n",
        "            \"age\": 22,\n",
        "            \"grades\": {\"math\": 78, \"science\": 88}\n",
        "         }\n",
        "        }\n",
        "\n",
        "    Use Case:\n",
        "\n",
        "\n",
        "\n",
        "*   Storing information about objects with multiple attributes, like students in a school, employees in a company, etc.\n",
        "*   Representing JSON-like data in Python.\n",
        "*   Working with databases or APIs, where data is usually structured in layers.\n",
        "\n",
        "\n",
        "Accessing nested data:\n",
        "\n",
        "      print(students[\"101\"][\"name\"])         # Output: Alice\n",
        "      print(students[\"101\"][\"grades\"][\"math\"])  # Output: 85\n",
        "\n",
        "\n",
        "\n",
        "\n",
        "\n",
        "\n"
      ],
      "metadata": {
        "id": "Ivx-NocuEDNL"
      }
    },
    {
      "cell_type": "markdown",
      "source": [],
      "metadata": {
        "id": "v3kHp4xdttK7"
      }
    },
    {
      "cell_type": "markdown",
      "source": [
        "17. Describe the time complexity of accessing elements in a dictionary ?\n",
        "\n",
        "    Time Complexity of Accessing Elements in a Dictionary\n",
        "\n",
        "Average Case:\n",
        "\n",
        "\n",
        "  * O(1) (constant time) for accessing, inserting, and deleting elements.\n",
        "\n",
        "  * This is because the hash function computes an index where the key-value pair is stored, allowing direct access.\n",
        "\n",
        "Worst Case:\n",
        "\n",
        "  * O(n) (linear time) if there are many hash collisions (multiple keys hashing to the same index).\n",
        "\n",
        "  * However, Python's dictionary implementation is optimized to minimize collisions, making this scenario rare.\n",
        "\n",
        "\n",
        "Why O(1) on Average?\n",
        "* Hash Function: The key is hashed to compute an index.\n",
        "\n",
        "* Direct Lookup: The value is retrieved from the computed index (or a nearby slot in case of collisions).\n",
        "\n",
        "* Handling Collisions: Python uses open addressing (probing) to resolve collisions, maintaining efficiency.\n",
        "\n",
        "\n",
        "  --> Accessing elements in a Python dictionary is O(1) on average, making it one of the fastest data structures for key-value lookups. The worst case (O(n)) is rare due to Python’s efficient collision resolution."
      ],
      "metadata": {
        "id": "TYJTBccTGeHv"
      }
    },
    {
      "cell_type": "markdown",
      "source": [
        "18. In what situations are lists preferred over dictionaries?\n",
        "\n",
        "    --> While dictionaries (dict) provide fast O(1) lookups by key, lists (list) are preferred in certain scenarios due to their ordered, index-based nature. Here are key situations where lists are a better choice:\n",
        "\n",
        "    Use a List When:\n",
        "\n",
        "\n",
        "1. Order Matters:\n",
        "*   Lists maintain insertion order, and you often care about the position of\n",
        "    elements.\n",
        "\n",
        "\n",
        "*   Example: maintaining a sequence of steps, timestamps, or ordered tasks.\n",
        "\n",
        "2. You Just Need Values (No Keys):\n",
        "* If you're storing a simple collection of items and don't need labels or unique identifiers.\n",
        "\n",
        "* Example: names, numbers, objects in a game.\n",
        "\n",
        "3. Index-Based Access:\n",
        "* You want to access elements by position (e.g., my_list[0]).\n",
        "\n",
        "* Dictionaries don't support access by numeric index unless you force it.\n",
        "\n",
        "4. Ordering, Sorting, or Slicing:\n",
        "* Lists are better when you need to sort values or take slices of data.\n",
        "\n",
        "* Dictionaries only started maintaining order in Python 3.7+, and they’re not designed for slicing.\n",
        "\n",
        "\n",
        "\n"
      ],
      "metadata": {
        "id": "AmvfhTzNJAzs"
      }
    },
    {
      "cell_type": "markdown",
      "source": [
        "19. Why are dictionaries considered unordered, and how does that affect data retrieval?\n",
        "\n",
        "  Why Dictionaries Were Considered Unordered:\n",
        "\n",
        "* Before Python 3.7, dictionaries didn’t preserve insertion order.\n",
        "\n",
        "* You couldn't rely on the order of items when looping.\n",
        "\n",
        " From Python 3.7+:\n",
        "* Dictionaries do preserve the order of items as they were added.\n",
        "\n",
        " How It Affects Retrieval:\n",
        "* Key lookup is always fast (O(1)).\n",
        "\n",
        "* But order matters only when you're iterating over the dictionary.\n",
        "\n",
        "\n",
        "\n",
        "\n"
      ],
      "metadata": {
        "id": "1mtFDIhLMxh1"
      }
    },
    {
      "cell_type": "markdown",
      "source": [
        "20.  Explain the difference between a list and a dictionary in terms of data retrieval.\n",
        "\n",
        "\n",
        "  *Difference Between List and Dictionary in Data Retrieval:\n",
        "\n",
        "  * List: Data is retrieved using an index (e.g., my_list[0]). It's best when the order of items matters.\n",
        "\n",
        "  * Dictionary: Data is retrieved using a key (e.g., my_dict[\"name\"]). It's ideal for quick lookups based on unique identifiers.\n",
        "\n",
        "  * Access Speed: Both offer fast access (O(1)), but dictionaries are better for labeled data, while lists are suited for ordered data.\n",
        "\n",
        "\n"
      ],
      "metadata": {
        "id": "axflFtiLNpnQ"
      }
    },
    {
      "cell_type": "markdown",
      "source": [
        "# PRACTICAL QUESTION"
      ],
      "metadata": {
        "id": "hqEcRovWv58F"
      }
    },
    {
      "cell_type": "markdown",
      "source": [
        "1.Write a code to create a string with your name and print it."
      ],
      "metadata": {
        "id": "wocztSgLwChp"
      }
    },
    {
      "cell_type": "code",
      "source": [
        "a= \"fizzafatema\"\n",
        "print(a)"
      ],
      "metadata": {
        "colab": {
          "base_uri": "https://localhost:8080/"
        },
        "id": "lp14jknawHiK",
        "outputId": "c434620e-5311-4b66-85ea-e13e4ce9e47e"
      },
      "execution_count": null,
      "outputs": [
        {
          "output_type": "stream",
          "name": "stdout",
          "text": [
            "fizzafatema\n"
          ]
        }
      ]
    },
    {
      "cell_type": "markdown",
      "source": [
        "2.  Write a code to find the length of the string \"Hello World\"."
      ],
      "metadata": {
        "id": "e_LkBynTwUYx"
      }
    },
    {
      "cell_type": "code",
      "source": [
        "len(\"Hello World\")\n"
      ],
      "metadata": {
        "colab": {
          "base_uri": "https://localhost:8080/"
        },
        "id": "xipT-KX-waKu",
        "outputId": "14fff7fe-3171-4476-886d-99dbe506193b"
      },
      "execution_count": null,
      "outputs": [
        {
          "output_type": "execute_result",
          "data": {
            "text/plain": [
              "11"
            ]
          },
          "metadata": {},
          "execution_count": 2
        }
      ]
    },
    {
      "cell_type": "markdown",
      "source": [
        "3. Write a code to slice the first 3 characters from the string \"Python Programming\"?"
      ],
      "metadata": {
        "id": "lrmCTqm4wjkN"
      }
    },
    {
      "cell_type": "code",
      "source": [
        "a = \"Python Programming\"\n",
        "slice_text = a[:3]\n",
        "print(slice_text)"
      ],
      "metadata": {
        "colab": {
          "base_uri": "https://localhost:8080/"
        },
        "id": "bsKDEkjkw7G8",
        "outputId": "a78f0045-ac17-4665-fc84-58b18112370b"
      },
      "execution_count": null,
      "outputs": [
        {
          "output_type": "stream",
          "name": "stdout",
          "text": [
            "Pyt\n"
          ]
        }
      ]
    },
    {
      "cell_type": "markdown",
      "source": [
        "4.Write a code to convert the string \"hello\" to uppercase."
      ],
      "metadata": {
        "id": "jpz4XkWuxKP0"
      }
    },
    {
      "cell_type": "code",
      "source": [
        "text = \"hello\"\n",
        "uppercase_text = text.upper()\n",
        "print(uppercase_text)"
      ],
      "metadata": {
        "colab": {
          "base_uri": "https://localhost:8080/"
        },
        "id": "7o4yCxvuxPX-",
        "outputId": "fe124ccb-5cd6-4129-eda7-ef2455dc25cd"
      },
      "execution_count": null,
      "outputs": [
        {
          "output_type": "stream",
          "name": "stdout",
          "text": [
            "HELLO\n"
          ]
        }
      ]
    },
    {
      "cell_type": "markdown",
      "source": [
        "5. Write a code to replace the word \"apple\" with \"orange\" in the string \"I like apple\"."
      ],
      "metadata": {
        "id": "p18RMyY0xWOh"
      }
    },
    {
      "cell_type": "code",
      "source": [
        "text = \"i like apple\"\n",
        "replace_text = text.replace(\"apple\",\"orange\")\n",
        "print(replace_text)\n"
      ],
      "metadata": {
        "colab": {
          "base_uri": "https://localhost:8080/"
        },
        "id": "rYrwYfdlxgyz",
        "outputId": "b8f2e352-2bbd-44b2-c95c-9ae4ca09c9a7"
      },
      "execution_count": null,
      "outputs": [
        {
          "output_type": "stream",
          "name": "stdout",
          "text": [
            "i like orange\n"
          ]
        }
      ]
    },
    {
      "cell_type": "markdown",
      "source": [
        "6. Write a code to create a list with numbers 1 to 5 and print it."
      ],
      "metadata": {
        "id": "M4kHfYGnyDJX"
      }
    },
    {
      "cell_type": "code",
      "source": [
        "list = [1,2,3,4,5]\n",
        "print(list)"
      ],
      "metadata": {
        "colab": {
          "base_uri": "https://localhost:8080/"
        },
        "id": "txMDSeOLyIA3",
        "outputId": "166d1237-1d2c-4448-ae1f-ae88539063a8"
      },
      "execution_count": null,
      "outputs": [
        {
          "output_type": "stream",
          "name": "stdout",
          "text": [
            "[1, 2, 3, 4, 5]\n"
          ]
        }
      ]
    },
    {
      "cell_type": "markdown",
      "source": [
        "7. Write a code to append the number 10 to the list [1, 2, 3, 4]."
      ],
      "metadata": {
        "id": "5dXVbRTUyMtO"
      }
    },
    {
      "cell_type": "code",
      "source": [
        "list = [1,2,3,4]\n",
        "append_list = list.append(10)\n",
        "print(list)"
      ],
      "metadata": {
        "colab": {
          "base_uri": "https://localhost:8080/"
        },
        "id": "pQmF_EAuym65",
        "outputId": "cd1515fe-3aa4-46e4-c35d-b2dbec8c9296"
      },
      "execution_count": null,
      "outputs": [
        {
          "output_type": "stream",
          "name": "stdout",
          "text": [
            "[1, 2, 3, 4, 10]\n"
          ]
        }
      ]
    },
    {
      "cell_type": "markdown",
      "source": [
        "8. Write a code to remove the number 3 from the list [1, 2, 3, 4, 5].\n"
      ],
      "metadata": {
        "id": "ylX6syECy0Pk"
      }
    },
    {
      "cell_type": "code",
      "source": [
        "\n",
        "list = [1,2,3,4,5]\n",
        "remove_list = list.remove(3)\n",
        "print(list)"
      ],
      "metadata": {
        "colab": {
          "base_uri": "https://localhost:8080/"
        },
        "id": "MHRrqy2fy7I_",
        "outputId": "1e02539e-410c-46b3-92ce-a8a2e4be58e2"
      },
      "execution_count": null,
      "outputs": [
        {
          "output_type": "stream",
          "name": "stdout",
          "text": [
            "[1, 2, 4, 5]\n"
          ]
        }
      ]
    },
    {
      "cell_type": "markdown",
      "source": [
        "9. Write a code to access the second element in the list ['a', 'b', 'c', 'd']"
      ],
      "metadata": {
        "id": "r4Wmln-1zHvQ"
      }
    },
    {
      "cell_type": "code",
      "source": [
        "a =  ['a', 'b', 'c', 'd']\n",
        "list = a[1]\n",
        "print(list)"
      ],
      "metadata": {
        "colab": {
          "base_uri": "https://localhost:8080/"
        },
        "id": "SmtwnCTEzsbd",
        "outputId": "521bc9f2-d985-4d44-9d23-e677cab78c55"
      },
      "execution_count": null,
      "outputs": [
        {
          "output_type": "stream",
          "name": "stdout",
          "text": [
            "b\n"
          ]
        }
      ]
    },
    {
      "cell_type": "markdown",
      "source": [
        "10. Write a code to reverse the list [10, 20, 30, 40, 50]."
      ],
      "metadata": {
        "id": "JA9UFnP5z-1J"
      }
    },
    {
      "cell_type": "code",
      "source": [
        "list = [10,20,30,40,50]\n",
        "rev_list = list[::-1]\n",
        "print(rev_list)"
      ],
      "metadata": {
        "colab": {
          "base_uri": "https://localhost:8080/"
        },
        "id": "jionPdCm0CyA",
        "outputId": "8737bf8d-0dc3-4ec4-bd50-bf00e257e0da"
      },
      "execution_count": null,
      "outputs": [
        {
          "output_type": "stream",
          "name": "stdout",
          "text": [
            "[50, 40, 30, 20, 10]\n"
          ]
        }
      ]
    },
    {
      "cell_type": "markdown",
      "source": [
        "11. Write a code to create a tuple with the elements 100, 200, 300 and print it."
      ],
      "metadata": {
        "id": "RXx4P4gc0MZS"
      }
    },
    {
      "cell_type": "code",
      "source": [
        "tuple = (100,200,300)\n",
        "print(tuple)"
      ],
      "metadata": {
        "colab": {
          "base_uri": "https://localhost:8080/"
        },
        "id": "htYLI9hj0QcE",
        "outputId": "410f7538-51cd-429c-d369-b5889d761afb"
      },
      "execution_count": null,
      "outputs": [
        {
          "output_type": "stream",
          "name": "stdout",
          "text": [
            "(100, 200, 300)\n"
          ]
        }
      ]
    },
    {
      "cell_type": "markdown",
      "source": [
        "12. Write a code to access the second-to-last element of the tuple ('red', 'green', 'blue', 'yellow')."
      ],
      "metadata": {
        "id": "fwyVgZ_70WW7"
      }
    },
    {
      "cell_type": "code",
      "source": [
        "tuple =  ('red', 'green', 'blue', 'yellow')\n",
        "second_last = tuple[-2]\n",
        "print(second_last)"
      ],
      "metadata": {
        "colab": {
          "base_uri": "https://localhost:8080/"
        },
        "id": "__sAf_yx0fxv",
        "outputId": "1c2cae73-2726-4969-9d4a-5c4f122a1c04"
      },
      "execution_count": null,
      "outputs": [
        {
          "output_type": "stream",
          "name": "stdout",
          "text": [
            "blue\n"
          ]
        }
      ]
    },
    {
      "cell_type": "markdown",
      "source": [
        "13 .  Write a code to find the minimum number in the tuple (10, 20, 5, 15)."
      ],
      "metadata": {
        "id": "-Mh8T6j600zk"
      }
    },
    {
      "cell_type": "code",
      "source": [
        "tuple = (10,20,5,15)\n",
        "min_tuple = min(tuple)\n",
        "print(min_tuple)"
      ],
      "metadata": {
        "colab": {
          "base_uri": "https://localhost:8080/"
        },
        "id": "-NZOgItG05pO",
        "outputId": "e34a35c9-6ec1-43a9-bcaf-3c61aa709b4a"
      },
      "execution_count": null,
      "outputs": [
        {
          "output_type": "stream",
          "name": "stdout",
          "text": [
            "5\n"
          ]
        }
      ]
    },
    {
      "cell_type": "markdown",
      "source": [
        "14 . . Write a code to find the index of the element \"cat\" in the tuple ('dog', 'cat', 'rabbit')."
      ],
      "metadata": {
        "id": "UcksxqVh1F8r"
      }
    },
    {
      "cell_type": "code",
      "source": [
        "tuple = ('dog', 'cat', 'rabbit')\n",
        "index_tuple = tuple.index(\"cat\")\n",
        "print(index_tuple)"
      ],
      "metadata": {
        "colab": {
          "base_uri": "https://localhost:8080/"
        },
        "id": "3XBNjSOK1Nfk",
        "outputId": "ada82cd2-4037-4561-f170-7da742efbba8"
      },
      "execution_count": null,
      "outputs": [
        {
          "output_type": "stream",
          "name": "stdout",
          "text": [
            "1\n"
          ]
        }
      ]
    },
    {
      "cell_type": "markdown",
      "source": [
        "15 .  Write a code to create a tuple containing three different fruits and check if \"kiwi\" is in it."
      ],
      "metadata": {
        "id": "i5XnczfA1UWq"
      }
    },
    {
      "cell_type": "code",
      "source": [
        "tuple = (\"apple\",\"banana\",\"kivi\")\n",
        "check_tuple = \"kivi\" in tuple\n",
        "print(check_tuple)"
      ],
      "metadata": {
        "colab": {
          "base_uri": "https://localhost:8080/"
        },
        "id": "x2Cm4res1bOk",
        "outputId": "73945815-ca9a-4a5b-94e0-9f98eac67854"
      },
      "execution_count": null,
      "outputs": [
        {
          "output_type": "stream",
          "name": "stdout",
          "text": [
            "True\n"
          ]
        }
      ]
    },
    {
      "cell_type": "markdown",
      "source": [
        "16 . Write a code to create a set with the elements 'a', 'b', 'c' and print it."
      ],
      "metadata": {
        "id": "xkxKUNYz1pdL"
      }
    },
    {
      "cell_type": "code",
      "source": [
        "my_set = {'a', 'b', 'c'}\n",
        "print(my_set)\n"
      ],
      "metadata": {
        "colab": {
          "base_uri": "https://localhost:8080/"
        },
        "id": "4F_cyzZZ1yDu",
        "outputId": "bdbb13fe-369c-4f66-9e9c-1b105e650c7c"
      },
      "execution_count": null,
      "outputs": [
        {
          "output_type": "stream",
          "name": "stdout",
          "text": [
            "{'b', 'c', 'a'}\n"
          ]
        }
      ]
    },
    {
      "cell_type": "markdown",
      "source": [
        "17. . Write a code to clear all elements from the set {1, 2, 3, 4, 5}."
      ],
      "metadata": {
        "id": "u22C5ZNm2PzP"
      }
    },
    {
      "cell_type": "code",
      "source": [
        "my_set = {1,2,3,4,5}\n",
        "my_set.clear()\n",
        "print(my_set)"
      ],
      "metadata": {
        "colab": {
          "base_uri": "https://localhost:8080/"
        },
        "id": "swipTzom2Wvm",
        "outputId": "522314e2-2187-4a73-8ad2-26cd138b5812"
      },
      "execution_count": null,
      "outputs": [
        {
          "output_type": "stream",
          "name": "stdout",
          "text": [
            "set()\n"
          ]
        }
      ]
    },
    {
      "cell_type": "markdown",
      "source": [
        "18.  Write a code to remove the element 4 from the set {1, 2, 3, 4}."
      ],
      "metadata": {
        "id": "3cbONQCS2wCp"
      }
    },
    {
      "cell_type": "code",
      "source": [
        "my_set = {1,2,3,4}\n",
        "my_set.remove(4)\n",
        "print(my_set)"
      ],
      "metadata": {
        "id": "8aOXTY733DAl",
        "colab": {
          "base_uri": "https://localhost:8080/"
        },
        "outputId": "ae9aae2b-1038-4886-c09d-a2e7821af91b"
      },
      "execution_count": null,
      "outputs": [
        {
          "output_type": "stream",
          "name": "stdout",
          "text": [
            "{1, 2, 3}\n"
          ]
        }
      ]
    },
    {
      "cell_type": "markdown",
      "source": [
        "19 . Write a code to find the union of two sets {1, 2, 3} and {3, 4, 5}.\n",
        "\n"
      ],
      "metadata": {
        "id": "I2lcWcaFlbws"
      }
    },
    {
      "cell_type": "code",
      "source": [
        "set1 = {1,2,3}\n",
        "set2 = {3,4,5}\n",
        "\n",
        "set_union = set1.union(set2)\n",
        "print(set_union)"
      ],
      "metadata": {
        "colab": {
          "base_uri": "https://localhost:8080/"
        },
        "id": "b1rNZxzkmt9R",
        "outputId": "3ccbb681-d1cb-4f45-d87e-c8544fcecfc1"
      },
      "execution_count": null,
      "outputs": [
        {
          "output_type": "stream",
          "name": "stdout",
          "text": [
            "{1, 2, 3, 4, 5}\n"
          ]
        }
      ]
    },
    {
      "cell_type": "markdown",
      "source": [
        "20 . Write a code to find the intersection of two sets {1, 2, 3} and {2, 3, 4}."
      ],
      "metadata": {
        "id": "dops1qgdm4Xy"
      }
    },
    {
      "cell_type": "code",
      "source": [
        "set1 = {1,2,3}\n",
        "set2 = {2,3,4}\n",
        "\n",
        "intersection_set = set1.intersection(set2)\n",
        "print(intersection_set)"
      ],
      "metadata": {
        "colab": {
          "base_uri": "https://localhost:8080/"
        },
        "id": "gEfKhuWJm81J",
        "outputId": "9ea43f75-b51a-465e-bcf2-a9cf63196b95"
      },
      "execution_count": null,
      "outputs": [
        {
          "output_type": "stream",
          "name": "stdout",
          "text": [
            "{2, 3}\n"
          ]
        }
      ]
    },
    {
      "cell_type": "markdown",
      "source": [],
      "metadata": {
        "id": "Ci3UAYb119iT"
      }
    },
    {
      "cell_type": "markdown",
      "source": [
        "21. 1. Write a code to create a dictionary with the keys \"name\", \"age\", and \"city\", and print it."
      ],
      "metadata": {
        "id": "RApxQBL2GDzk"
      }
    },
    {
      "cell_type": "code",
      "source": [
        "my_dict={\n",
        "    \"name\": \"fizzafatema\",\n",
        "    \"age\": 20,\n",
        "    \"city\": \"himmatanagar\"\n",
        "}\n",
        "print(my_dict)\n"
      ],
      "metadata": {
        "colab": {
          "base_uri": "https://localhost:8080/"
        },
        "id": "_bbc52QQGKGO",
        "outputId": "9d19418e-f2fb-4265-9d9f-2e0d56788331"
      },
      "execution_count": 4,
      "outputs": [
        {
          "output_type": "stream",
          "name": "stdout",
          "text": [
            "{'name': 'fizzafatema', 'age': 30, 'city': 'himmatanagar'}\n"
          ]
        }
      ]
    },
    {
      "cell_type": "markdown",
      "source": [
        "22 .  Write a code to add a new key-value pair \"country\": \"USA\" to the dictionary {'name': 'John', 'age': 25}.\n",
        "\n"
      ],
      "metadata": {
        "id": "KyA9NdS2GsIM"
      }
    },
    {
      "cell_type": "code",
      "source": [
        "my_dict = {\n",
        "    \"name\" : \"john\",\n",
        "    \"age\" : 25,\n",
        "\n",
        "}\n",
        "my_dict[\"country\"] = \"USA\"\n",
        "new_dict = my_dict\n",
        "print(new_dict)"
      ],
      "metadata": {
        "colab": {
          "base_uri": "https://localhost:8080/"
        },
        "id": "dzYxGC2xHX_V",
        "outputId": "27727272-2dd5-4c8a-cf86-fa93e0a4ca23"
      },
      "execution_count": 6,
      "outputs": [
        {
          "output_type": "stream",
          "name": "stdout",
          "text": [
            "{'name': 'john', 'age': 25, 'country': 'USA'}\n"
          ]
        }
      ]
    },
    {
      "cell_type": "markdown",
      "source": [
        "23 . Write a code to access the value associated with the key \"name\" in the dictionary {'name': 'Alice', 'age': 30}."
      ],
      "metadata": {
        "id": "tmBvvGkmILM_"
      }
    },
    {
      "cell_type": "code",
      "source": [
        "my_dict = {\n",
        "    \"name\" : \"alice\",\n",
        "    \"age\" : 30,\n",
        "}\n",
        "new_dict = my_dict[\"name\"]\n",
        "print(new_dict)"
      ],
      "metadata": {
        "colab": {
          "base_uri": "https://localhost:8080/"
        },
        "id": "7fvAv5IHIosY",
        "outputId": "381267d2-eeb1-44cb-ee39-bbaebaf8ff2a"
      },
      "execution_count": 8,
      "outputs": [
        {
          "output_type": "stream",
          "name": "stdout",
          "text": [
            "alice\n"
          ]
        }
      ]
    },
    {
      "cell_type": "markdown",
      "source": [
        "24 .  Write a code to remove the key \"age\" from the dictionary {'name': 'Bob', 'age': 22, 'city': 'New York'}."
      ],
      "metadata": {
        "id": "xopUmbwdI6P_"
      }
    },
    {
      "cell_type": "code",
      "source": [
        "my_dict = {\n",
        "    \"name\" : \"bob\",\n",
        "    \"age\" : 22,\n",
        "    \"city\" : \"new york\"\n",
        "}\n",
        "del my_dict[\"age\"]\n",
        "print(my_dict)"
      ],
      "metadata": {
        "colab": {
          "base_uri": "https://localhost:8080/"
        },
        "id": "PY3uTglxJCpx",
        "outputId": "13c3dd09-c584-4358-bcd8-e633939ee8e5"
      },
      "execution_count": 9,
      "outputs": [
        {
          "output_type": "stream",
          "name": "stdout",
          "text": [
            "{'name': 'bob', 'city': 'new york'}\n"
          ]
        }
      ]
    },
    {
      "cell_type": "markdown",
      "source": [
        "25 . Write a code to check if the key \"city\" exists in the dictionary {'name': 'Alice', 'city': 'Paris'}."
      ],
      "metadata": {
        "id": "1iDkaNB7JbsF"
      }
    },
    {
      "cell_type": "code",
      "source": [
        "my_dict = {\n",
        "    \"name\" : \"alice\",\n",
        "    \"city\" : \"paris\",\n",
        "}\n",
        "check_key = \"city\" in my_dict\n",
        "print(check_key)"
      ],
      "metadata": {
        "colab": {
          "base_uri": "https://localhost:8080/"
        },
        "id": "9S3uzKeGJiCw",
        "outputId": "24ee769b-01aa-4046-f5fe-c4d93aa83b36"
      },
      "execution_count": 11,
      "outputs": [
        {
          "output_type": "stream",
          "name": "stdout",
          "text": [
            "True\n"
          ]
        }
      ]
    },
    {
      "cell_type": "markdown",
      "source": [
        "26 . Write a code to create a list, a tuple, and a dictionary, and print them all."
      ],
      "metadata": {
        "id": "Ckv2fR8JJ_RI"
      }
    },
    {
      "cell_type": "code",
      "source": [
        "my_list = [1,2,3,4,5]\n",
        "my_tuple = (\"apple\",\"banana\",\"mango\")\n",
        "my_dict = {\n",
        "    \"name\" : \"alice\",\n",
        "    \"age\" : 30,\n",
        "    \"city\" : \"new york\"\n",
        "}\n",
        "print(my_list)\n",
        "print(my_tuple)\n",
        "print(my_dict)\n"
      ],
      "metadata": {
        "colab": {
          "base_uri": "https://localhost:8080/"
        },
        "id": "HdqpNK5pKF7P",
        "outputId": "a6bd1bc2-e917-449d-817d-0850b8470f83"
      },
      "execution_count": 12,
      "outputs": [
        {
          "output_type": "stream",
          "name": "stdout",
          "text": [
            "[1, 2, 3, 4, 5]\n",
            "('apple', 'banana', 'mango')\n",
            "{'name': 'alice', 'age': 30, 'city': 'new york'}\n"
          ]
        }
      ]
    },
    {
      "cell_type": "markdown",
      "source": [
        "27 .  Write a code to create a list of 5 random numbers between 1 and 100, sort it in ascending order, and print the\n",
        "result.(replaced)"
      ],
      "metadata": {
        "id": "PTxcdW8cK0UX"
      }
    },
    {
      "cell_type": "code",
      "source": [
        "import random\n",
        "\n",
        "random_numbers = [random.randint(1,100) for _ in range(5)]\n",
        "\n",
        "random_numbers = sorted(random_numbers)\n",
        "\n",
        "print(random_numbers)\n"
      ],
      "metadata": {
        "colab": {
          "base_uri": "https://localhost:8080/"
        },
        "id": "wNlK9js5LWxd",
        "outputId": "fa0373c8-d540-4ae1-f3d8-b1b8bcf68aa4"
      },
      "execution_count": 14,
      "outputs": [
        {
          "output_type": "stream",
          "name": "stdout",
          "text": [
            "[10, 18, 26, 55, 66]\n"
          ]
        }
      ]
    },
    {
      "cell_type": "markdown",
      "source": [
        "28 .  Write a code to create a list with strings and print the element at the third index.\n",
        "\\"
      ],
      "metadata": {
        "id": "juyJuCksLyI2"
      }
    },
    {
      "cell_type": "code",
      "source": [
        "my_list = [\"apple\",\"banana\",\"papaya\",\"mango\",\"watermelone\"]\n",
        "third_index = my_list[2]\n",
        "print(third_index)"
      ],
      "metadata": {
        "colab": {
          "base_uri": "https://localhost:8080/"
        },
        "id": "8BvZc9CkL5pl",
        "outputId": "39248d31-8e46-4657-eee7-9fc9689ce949"
      },
      "execution_count": 15,
      "outputs": [
        {
          "output_type": "stream",
          "name": "stdout",
          "text": [
            "papaya\n"
          ]
        }
      ]
    },
    {
      "cell_type": "markdown",
      "source": [
        "29 . Write a code to combine two dictionaries into one and print the result.\n"
      ],
      "metadata": {
        "id": "ZKcaLO7QMd7V"
      }
    },
    {
      "cell_type": "code",
      "source": [
        "dict1 = {\n",
        "    \"name\" : \"john\",\n",
        "    \"age\" : 34\n",
        "}\n",
        "dict2 = {\n",
        "    \"city\" : \"new york\",\n",
        "    \"country\" : \"USA\"\n",
        "}\n",
        "combined_dict = {**dict1,**dict2}\n",
        "print(combined_dict)"
      ],
      "metadata": {
        "colab": {
          "base_uri": "https://localhost:8080/"
        },
        "id": "GqUCL_whMU4v",
        "outputId": "cc415e9c-1b38-4cb3-cbd9-8573eaf82db7"
      },
      "execution_count": 17,
      "outputs": [
        {
          "output_type": "stream",
          "name": "stdout",
          "text": [
            "{'name': 'john', 'age': 34, 'city': 'new york', 'country': 'USA'}\n"
          ]
        }
      ]
    },
    {
      "cell_type": "markdown",
      "source": [
        "30. Write a code to convert a list of strings into a set."
      ],
      "metadata": {
        "id": "NJOVehu2NVTu"
      }
    },
    {
      "cell_type": "code",
      "source": [
        "string_list = [\"apple\",\"banana\",\"papaya\",\"mango\",\"watermelone\"]\n",
        "string_set = set(string_list)\n",
        "print(string_set)"
      ],
      "metadata": {
        "colab": {
          "base_uri": "https://localhost:8080/"
        },
        "id": "JEExj3L4Nazj",
        "outputId": "eebf3864-d344-4d1f-8879-d154aace1d14"
      },
      "execution_count": 18,
      "outputs": [
        {
          "output_type": "stream",
          "name": "stdout",
          "text": [
            "{'papaya', 'banana', 'mango', 'apple', 'watermelone'}\n"
          ]
        }
      ]
    }
  ]
}